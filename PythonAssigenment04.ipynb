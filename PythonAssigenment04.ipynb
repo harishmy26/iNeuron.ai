{
 "cells": [
  {
   "cell_type": "markdown",
   "metadata": {},
   "source": [
    "### Write a python program with class concept to find the area of the triangle using the formula"
   ]
  },
  {
   "cell_type": "code",
   "execution_count": 3,
   "metadata": {},
   "outputs": [
    {
     "name": "stdout",
     "output_type": "stream",
     "text": [
      "Initialised Utils Child class\n",
      "Initialised Triagle super class [3,4,5]\n",
      "6.0\n",
      "Area of triangle = 6.0\n"
     ]
    }
   ],
   "source": [
    "class triangle:\n",
    " def __init__(self, side01, side02, side03):\n",
    "  self.side01 = side01\n",
    "  self.side02 = side02\n",
    "  self.side03 = side03\n",
    "  print (\"Initialised Triagle super class [\" +  str(side01) + \",\" + str(side02) + \",\" + str(side03) + \"]\")\n",
    "\n",
    "class triangleUtilities(triangle):\n",
    " \n",
    " def __init__(self, side01, side02, side03):\n",
    "  print (\"Initialised Utils Child class\" )\n",
    "  super(triangleUtilities, self).__init__(side01, side02, side03)\n",
    "\n",
    " def get_area(self):\n",
    "  s = (self.side01 + self.side02 + self.side03)/2\n",
    "  print (str(s))\n",
    "  return (s*(s-self.side01)*(s-self.side02)*(s-self.side03))**0.5\n",
    "\n",
    "instance = triangleUtilities(3,4,5)\n",
    "print (\"Area of triangle = \" + str(instance.get_area()) )"
   ]
  },
  {
   "cell_type": "markdown",
   "metadata": {},
   "source": [
    "### Write a function filter_long_words() that takes a list of words and an integer n and returns the list of words that are longer than n"
   ]
  },
  {
   "cell_type": "code",
   "execution_count": 4,
   "metadata": {},
   "outputs": [
    {
     "name": "stdout",
     "output_type": "stream",
     "text": [
      "Please enter the words: Bangalore\n",
      "Please enter the numbers: 12\n"
     ]
    },
    {
     "data": {
      "text/plain": [
       "'No words longer than specified word12'"
      ]
     },
     "execution_count": 4,
     "metadata": {},
     "output_type": "execute_result"
    }
   ],
   "source": [
    "def filterLongWords(wordslist,n):\n",
    "    wordslist = [x.strip() for x in wordslist if len(x.strip())> n]\n",
    "    \n",
    "    if (len(wordslist)> 0):\n",
    "        print(\"The list of longest words which are longer than \" + str(n) + \" is:\" )\n",
    "        return wordslist\n",
    "    else:\n",
    "        return \"No words longer than specified word\"+ str(n)\n",
    "    \n",
    "string = input(\"Please enter the words: \")\n",
    "number = int(input(\"Please enter the numbers: \"))\n",
    "\n",
    "ListOfWords = list(string.split(\",\"))\n",
    "filterLongWords(ListOfWords,number)"
   ]
  },
  {
   "cell_type": "markdown",
   "metadata": {},
   "source": [
    "### Write a Python program using function concept that maps list of words into a list of integers representing the lengths of the corresponding words . \n",
    "### Hint: If a list [ab,cde,erty] is passed on to the python function output should come as [2,3,4] Here 2,3,4 are the length of words in the list"
   ]
  },
  {
   "cell_type": "code",
   "execution_count": 63,
   "metadata": {},
   "outputs": [
    {
     "name": "stdout",
     "output_type": "stream",
     "text": [
      "Please enter the words: ab,cde,erty\n",
      "The length of the words are:  <map object at 0x0000022B1CA72848>\n"
     ]
    }
   ],
   "source": [
    "def mapWordsToLength(List):\n",
    "    return (map(len,List))\n",
    "\n",
    "wordList = (input(\"Please enter the words: \").split(\",\"))\n",
    "List = [x.strip() for x in wordList]\n",
    "WordLength = mapWordsToLength(List)\n",
    "\n",
    "print(\"The length of the words are: \", WordLength)"
   ]
  },
  {
   "cell_type": "markdown",
   "metadata": {},
   "source": [
    "### Write a Python function which takes a character (i.e. a string of length 1) and returns True if it is a vowel, False otherwise."
   ]
  },
  {
   "cell_type": "code",
   "execution_count": 66,
   "metadata": {},
   "outputs": [
    {
     "name": "stdout",
     "output_type": "stream",
     "text": [
      "Enter character to check that it is Vowel or not\n",
      "Input Value: a\n",
      "Output Value: True\n"
     ]
    }
   ],
   "source": [
    "def vowelChecker(inputChar):\n",
    "    returnValue=''\n",
    "    if(len(inputChar)==1):\n",
    "        vowelList=['a','e','i','o','u']\n",
    "        if (inputChar.lower() in vowelList):\n",
    "            returnValue= True\n",
    "        else:\n",
    "            returnValue= False\n",
    "    else:\n",
    "        returnValue=\"Please enter single character only!\"        \n",
    "    return returnValue\n",
    "\n",
    "print(\"Enter character to check that it is Vowel or not\")\n",
    "inputValue = input(\"Input Value: \")\n",
    "\n",
    "\n",
    "outputValue=vowelChecker(inputValue) \n",
    "\n",
    "\n",
    "print(\"Output Value:\",outputValue)"
   ]
  },
  {
   "cell_type": "code",
   "execution_count": null,
   "metadata": {},
   "outputs": [],
   "source": []
  }
 ],
 "metadata": {
  "kernelspec": {
   "display_name": "Python 3",
   "language": "python",
   "name": "python3"
  },
  "language_info": {
   "codemirror_mode": {
    "name": "ipython",
    "version": 3
   },
   "file_extension": ".py",
   "mimetype": "text/x-python",
   "name": "python",
   "nbconvert_exporter": "python",
   "pygments_lexer": "ipython3",
   "version": "3.7.6"
  }
 },
 "nbformat": 4,
 "nbformat_minor": 4
}
