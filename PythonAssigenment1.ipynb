{
 "cells": [
  {
   "cell_type": "markdown",
   "metadata": {},
   "source": [
    "### Write a program to find all such numbers that are divisible by 7 but are not multiple of 5 between 2000 and 3000, The numbers obtained should be printed in a comma seperated sequence on a single line"
   ]
  },
  {
   "cell_type": "code",
   "execution_count": 2,
   "metadata": {},
   "outputs": [
    {
     "name": "stdout",
     "output_type": "stream",
     "text": [
      "['2030', '2065', '2100', '2135', '2170', '2205', '2240', '2275', '2310', '2345', '2380', '2415', '2450', '2485', '2520', '2555', '2590', '2625', '2660', '2695', '2730', '2765', '2800', '2835', '2870', '2905', '2940', '2975']\n"
     ]
    }
   ],
   "source": [
    "number = []\n",
    "\n",
    "for i in range(2000,3000):\n",
    "    if (i%7 == 0) and (i%5 == 0):\n",
    "        number.append(str(i))\n",
    "\n",
    "\n",
    "print(number)"
   ]
  },
  {
   "cell_type": "markdown",
   "metadata": {},
   "source": [
    "### Write a program to accept the user's first and last name and then getting them printed in the reverse order with a space between first and last name"
   ]
  },
  {
   "cell_type": "code",
   "execution_count": 3,
   "metadata": {},
   "outputs": [
    {
     "name": "stdout",
     "output_type": "stream",
     "text": [
      "Enter your first name:Harish\n",
      "Enter your last name:Kulambi\n",
      "Kulambi Harish\n"
     ]
    }
   ],
   "source": [
    "FirstName = input(\"Enter your first name:\")\n",
    "LastName = input(\"Enter your last name:\")\n",
    "\n",
    "print(LastName + ' ' + FirstName)"
   ]
  },
  {
   "cell_type": "markdown",
   "metadata": {},
   "source": [
    "### Write a program to find the volume of a sphere"
   ]
  },
  {
   "cell_type": "code",
   "execution_count": 29,
   "metadata": {},
   "outputs": [
    {
     "name": "stdout",
     "output_type": "stream",
     "text": [
      "The volume of the sphere is 0.0009047786842338602 m^3\n"
     ]
    }
   ],
   "source": [
    "import math\n",
    "\n",
    "diameter = 12*10**-2\n",
    "radius = diameter/2\n",
    "Volume = (4/3)*math.pi*(radius**3)\n",
    "\n",
    "print(\"The volume of the sphere is\", Volume, \"m^3\")"
   ]
  },
  {
   "cell_type": "code",
   "execution_count": null,
   "metadata": {},
   "outputs": [],
   "source": []
  }
 ],
 "metadata": {
  "kernelspec": {
   "display_name": "Python 3",
   "language": "python",
   "name": "python3"
  },
  "language_info": {
   "codemirror_mode": {
    "name": "ipython",
    "version": 3
   },
   "file_extension": ".py",
   "mimetype": "text/x-python",
   "name": "python",
   "nbconvert_exporter": "python",
   "pygments_lexer": "ipython3",
   "version": "3.7.6"
  }
 },
 "nbformat": 4,
 "nbformat_minor": 4
}
