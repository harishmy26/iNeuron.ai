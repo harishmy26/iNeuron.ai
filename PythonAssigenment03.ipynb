{
 "cells": [
  {
   "cell_type": "markdown",
   "metadata": {},
   "source": [
    "### Write a Python Program to implement your own myreduce() function which works exactly like Python's built-in function reduce()"
   ]
  },
  {
   "cell_type": "code",
   "execution_count": 3,
   "metadata": {},
   "outputs": [
    {
     "name": "stdout",
     "output_type": "stream",
     "text": [
      "Input Value: \n",
      "Please enter the number: 10\n",
      "Output: \n",
      "List of first n natural numbers are:  [1, 2, 3, 4, 5, 6, 7, 8, 9, 10]\n",
      "Sum of elements is:  55\n"
     ]
    }
   ],
   "source": [
    "def myreduce(num):\n",
    "    num_list = list(range(1,number+1))\n",
    "    SumOfElements = 0\n",
    "    \n",
    "    for i in num_list:\n",
    "        SumOfElements += i\n",
    "    \n",
    "    return num_list,SumOfElements\n",
    "\n",
    "print(\"Input Value: \")\n",
    "number = int(input(\"Please enter the number: \"))\n",
    "\n",
    "outputValue = myreduce(number)\n",
    "\n",
    "print(\"List of first n natural numbers are: \",outputValue[0])\n",
    "print('Sum of elements is: ',outputValue[1])\n"
   ]
  },
  {
   "cell_type": "markdown",
   "metadata": {},
   "source": [
    "### Write a python program to implement your own myfliter() function which works exactly like python's builtin function filter()"
   ]
  },
  {
   "cell_type": "code",
   "execution_count": 5,
   "metadata": {},
   "outputs": [
    {
     "name": "stdout",
     "output_type": "stream",
     "text": [
      "Input: \n",
      "Please enter the number: 25\n",
      "List of numbers:  [1, 2, 3, 4, 5, 6, 7, 8, 9, 10, 11, 12, 13, 14, 15, 16, 17, 18, 19, 20, 21, 22, 23, 24, 25]\n",
      "List of even numbers [10, 20]\n",
      "List of odd numbers [5, 15, 25]\n"
     ]
    }
   ],
   "source": [
    "print(\"Input: \")\n",
    "num = int(input(\"Please enter the number: \"))\n",
    "num_list = list(range(1,num+1))\n",
    "\n",
    "def myfilter(num_list):\n",
    "    numEven = []\n",
    "    numOdd = []\n",
    "    \n",
    "    for i in num_list:\n",
    "        if (i%5 == 0):\n",
    "            if (i%2 == 0):\n",
    "                numEven.append(i)\n",
    "            else:\n",
    "                numOdd.append(i)\n",
    "    return numEven,numOdd\n",
    "\n",
    "outputValue = myfilter(num_list)\n",
    "print(\"List of numbers: \",num_list)\n",
    "print(\"List of even numbers\",outputValue[0])\n",
    "print(\"List of odd numbers\", outputValue[1])\n"
   ]
  },
  {
   "cell_type": "markdown",
   "metadata": {},
   "source": [
    "### Implement the list comprhensive to produce list"
   ]
  },
  {
   "cell_type": "code",
   "execution_count": 11,
   "metadata": {},
   "outputs": [
    {
     "name": "stdout",
     "output_type": "stream",
     "text": [
      "['x', 'xx', 'xxx', 'xxxx', 'y', 'yy', 'yyy', 'yyyy', 'z', 'zz', 'zzz', 'zzzz']\n",
      "['x', 'y', 'z', 'xx', 'yy', 'zz', 'xxx', 'yyy', 'zzz', 'xxxx', 'yyyy', 'zzzz']\n",
      "[[2], [3], [4], [3], [4], [5], [4], [5], [6]]\n",
      "[[2, 3, 4, 5], [3, 4, 5, 6], [4, 5, 6, 7], [5, 6, 7, 8]]\n",
      "[(1, 1), (2, 1), (3, 1), (1, 2), (2, 2), (3, 2), (1, 3), (2, 3), (3, 3)]\n"
     ]
    }
   ],
   "source": [
    "#01\n",
    "\n",
    "word01 = list('xyz')\n",
    "word02 = [x*n for x in word01 for n in range(1,5)]\n",
    "print(word2)\n",
    "\n",
    "#02\n",
    "\n",
    "word03 = [x*n for n in range(1,5) for x in word01]\n",
    "print(word03)\n",
    "\n",
    "#03\n",
    "\n",
    "num = [2,3,4]\n",
    "num01 = [[x+n] for x in num for n in range(0,3)]\n",
    "print(num01)\n",
    "\n",
    "#04\n",
    "\n",
    "num02=[2,3,4,5]\n",
    "num03=[[x+n for n in range(0,4)] for x in num02 ]\n",
    "print(num03)\n",
    "\n",
    "#05\n",
    "\n",
    "num04=[1,2,3]\n",
    "num05= [(b,a) for a in num04 for b in num04]\n",
    "print(num05)"
   ]
  },
  {
   "cell_type": "code",
   "execution_count": null,
   "metadata": {},
   "outputs": [],
   "source": []
  }
 ],
 "metadata": {
  "kernelspec": {
   "display_name": "Python 3",
   "language": "python",
   "name": "python3"
  },
  "language_info": {
   "codemirror_mode": {
    "name": "ipython",
    "version": 3
   },
   "file_extension": ".py",
   "mimetype": "text/x-python",
   "name": "python",
   "nbconvert_exporter": "python",
   "pygments_lexer": "ipython3",
   "version": "3.7.6"
  }
 },
 "nbformat": 4,
 "nbformat_minor": 4
}
