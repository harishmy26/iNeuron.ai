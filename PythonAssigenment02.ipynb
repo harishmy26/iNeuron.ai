{
 "cells": [
  {
   "cell_type": "markdown",
   "metadata": {},
   "source": [
    "###  Create a pattern using nested loop"
   ]
  },
  {
   "cell_type": "code",
   "execution_count": 16,
   "metadata": {},
   "outputs": [
    {
     "name": "stdout",
     "output_type": "stream",
     "text": [
      " \n",
      "*   \n",
      "*  *   \n",
      "*  *  *   \n",
      "*  *  *  *   \n",
      "*  *  *  *  *   \n",
      "*  *  *  *   \n",
      "*  *  *   \n",
      "*  *   \n",
      "*   \n"
     ]
    }
   ],
   "source": [
    "n = 5\n",
    "\n",
    "for i in range(n):\n",
    "    for j in range(i):\n",
    "        print('* ',end = \" \")\n",
    "    print(\" \")\n",
    "    \n",
    "for i in range(n,0,-1):\n",
    "    for i in range(i):\n",
    "        print('* ',end = \" \")\n",
    "    print(\" \")"
   ]
  },
  {
   "cell_type": "markdown",
   "metadata": {},
   "source": [
    "### Write a program to reverse the word after the user input"
   ]
  },
  {
   "cell_type": "code",
   "execution_count": 21,
   "metadata": {},
   "outputs": [
    {
     "name": "stdout",
     "output_type": "stream",
     "text": [
      "Enter the name:HARISH\n",
      "H S I R A H  \n"
     ]
    }
   ],
   "source": [
    "name = input(\"Enter the name:\")\n",
    "\n",
    "for i in range(len(name)-1, -1, -1):\n",
    "    print(name[i],end = \" \")\n",
    "print(\" \")\n"
   ]
  },
  {
   "cell_type": "code",
   "execution_count": null,
   "metadata": {},
   "outputs": [],
   "source": []
  }
 ],
 "metadata": {
  "kernelspec": {
   "display_name": "Python 3",
   "language": "python",
   "name": "python3"
  },
  "language_info": {
   "codemirror_mode": {
    "name": "ipython",
    "version": 3
   },
   "file_extension": ".py",
   "mimetype": "text/x-python",
   "name": "python",
   "nbconvert_exporter": "python",
   "pygments_lexer": "ipython3",
   "version": "3.7.6"
  }
 },
 "nbformat": 4,
 "nbformat_minor": 4
}
